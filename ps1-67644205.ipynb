{
 "cells": [
  {
   "cell_type": "markdown",
   "metadata": {},
   "source": [
    "## Linear Regression, Ridge Regression and Lasso\n",
    "\n",
    "CS184A/284A Assignment 1<br>\n",
    "Fall 2016\n",
    "\n",
    "\n",
    "In this assignment, we will walk you through the process of implementing\n",
    "- Linear regression\n",
    "- Gradient descent \n",
    "- Stochastic gradient descent (SGD)\n",
    "- Ridge regression\n",
    "- Lasso \n",
    "\n",
    "The purpose of this assignment is to familiarize you with basic knowledge about linear regression, including optimization and cross-validation, and help you gain proficiency in writing efficient code.\n",
    "\n",
    "** Please don't add or remove any code cells, as it might break our automatic grading system and affect your grade. **\n"
   ]
  },
  {
   "cell_type": "markdown",
   "metadata": {},
   "source": [
    "## Instructions on submission\n",
    "\n",
    "- Once you download the ipython notebook file, change its name to:   ps1-(YOUR UCINetID).ipynb\n",
    "- Once you complete your assignment, upload ps1-(YOUR UCINetID).ipynb to EEE dropbox: CS284A PS\n",
    "- Grading will be solely based on whether your code returns correct results. \n",
    "- Only add/modify code within blocks marked between \"### YOUR CODE HERE\" and ###"
   ]
  },
  {
   "cell_type": "markdown",
   "metadata": {},
   "source": [
    "**Honor Code:** I hereby agree to abide the UCI Honor Code and that of the Computer Science Department, promise that the submitted assignment is my own work, and understand that my code is subject to plagiarism test.\n",
    "\n",
    "**Signature**: *(Stanislav Listopad)*"
   ]
  },
  {
   "cell_type": "code",
   "execution_count": 10,
   "metadata": {
    "collapsed": false
   },
   "outputs": [],
   "source": [
    "# Run some setup code for this notebook. Don't modify anything in this cell.\n",
    "%matplotlib inline\n",
    "import numpy as np\n",
    "import pandas as pd\n",
    "import matplotlib.pyplot as plt\n",
    "plt.rcParams['figure.figsize'] = (10.0, 6)\n",
    "import random\n",
    "from sklearn import linear_model\n",
    "from sklearn import datasets, linear_model, cross_validation, metrics\n",
    "random.seed(1)"
   ]
  },
  {
   "cell_type": "markdown",
   "metadata": {},
   "source": [
    "## Diabetes dataset\n",
    "\n",
    "The diabetes dataset consists of 10 physiological variables (age, sex, weight, blood pressure) measure on 442 patients, and an indication of disease progression after one year. \n",
    "\n",
    "The physiological variables will be called *features*.  So we have $n=10$ features for this dataset."
   ]
  },
  {
   "cell_type": "code",
   "execution_count": 11,
   "metadata": {
    "collapsed": false
   },
   "outputs": [],
   "source": [
    "# load the diabetes dataset\n",
    "diabetes = datasets.load_diabetes()   # (m=442, n=10)\n",
    "diabetes_X = diabetes.data  #  features\n",
    "diabetes_y = diabetes.target  #  output "
   ]
  },
  {
   "cell_type": "code",
   "execution_count": 12,
   "metadata": {
    "collapsed": false,
    "scrolled": true
   },
   "outputs": [
    {
     "name": "stdout",
     "output_type": "stream",
     "text": [
      "(442L, 10L)\n",
      "(442L,)\n"
     ]
    }
   ],
   "source": [
    "# check the size of the data\n",
    "print diabetes_X.shape\n",
    "print diabetes_y.shape"
   ]
  },
  {
   "cell_type": "markdown",
   "metadata": {},
   "source": [
    "## 1 Data preprocessing\n",
    "\n",
    "### 1.1 Normalize features such that the mean and variance of each feature across all samples is 0 and 1, respectively.  \n",
    "\n",
    "- Given an input matrix of *m* rows and *n* columns, compute the noramlized data matrix. That is, when the input is\n",
    "\n",
    "      [[1,2],\n",
    "      [2,3],\n",
    "      [3,4]]\n",
    "    \n",
    "the output of your functions should be\n",
    "\n",
    "    [[-1.22474487, -1.22474487],\n",
    "    [0., 0.]]\n",
    "    [1.22474487  1.22474487]]\n",
    "    \n",
    "- Since each feature is represented by one column, we need to normalize each column of the data matrix to be mean 0 and variance 1.     "
   ]
  },
  {
   "cell_type": "code",
   "execution_count": 13,
   "metadata": {
    "collapsed": false
   },
   "outputs": [
    {
     "name": "stdout",
     "output_type": "stream",
     "text": [
      "=== For autograder ===\n",
      "[[-1.22474487 -1.22474487]\n",
      " [ 0.          0.        ]\n",
      " [ 1.22474487  1.22474487]]\n"
     ]
    }
   ],
   "source": [
    "# Implement a function that normalizes each column of a matrix to have zero mean and 1 std. \n",
    "def normalizeCols(x):\n",
    "    \"\"\" Column normalization function \"\"\"\n",
    "    \n",
    "    ### YOUR CODE HERE\n",
    "    \n",
    "    #Check if x is a matrix or a vector\n",
    "    if (x.shape[0] != x.size):\n",
    "        #if the intput is a matrix process it accordingly\n",
    "        indexRows = 0\n",
    "        indexColumns = 0\n",
    "        columnMeans = [];\n",
    "        for column in x.T:\n",
    "            #calculate the mean of each column & substract it from each value in that column\n",
    "            columnSum = 0\n",
    "            for value in column:\n",
    "                columnSum = columnSum + value\n",
    "            columnMean = columnSum / len(column)\n",
    "            columnMeans.append(columnMean)\n",
    "            for value in column:\n",
    "                x[indexRows, indexColumns] = value - columnMean\n",
    "                indexRows += 1\n",
    "            indexColumns += 1\n",
    "            indexRows = 0\n",
    "        indexColumns = 0\n",
    "\n",
    "        for column in x.T:\n",
    "            #calculate the standard deviation (SD) of each column & divide each value in that column by the column's SD\n",
    "            columnVarianceSum = 0\n",
    "            for value in column:\n",
    "                columnVarianceSum += (value)**(2)\n",
    "            SD = (columnVarianceSum / len(column))**(0.5)\n",
    "            for value in column:\n",
    "                x[indexRows, indexColumns] = value/SD\n",
    "                indexRows += 1\n",
    "            indexColumns += 1\n",
    "            indexRows = 0\n",
    "    else:\n",
    "        #if the input is a vector process it accordingly\n",
    "        #calculate the mean of the vector & substract it from each value of the vector\n",
    "        columnSum = 0\n",
    "        for value in x:\n",
    "            columnSum = columnSum + value\n",
    "        columnMean = columnSum / len(x)\n",
    "        index = 0\n",
    "        for value in x:\n",
    "            x[index] = value - columnMean\n",
    "            index += 1\n",
    "        #calculate the standard deviation (SD) of the vector & divide each value of the vector by SD\n",
    "        columnVarianceSum = 0\n",
    "        for value in x:\n",
    "            columnVarianceSum += (value)**(2)\n",
    "        SD = (columnVarianceSum / len(x))**(0.5)\n",
    "        index = 0\n",
    "        for value in x:\n",
    "            x[index] = value/SD\n",
    "            index += 1\n",
    "            \n",
    "    ### END YOUR CODE\n",
    "    \n",
    "    return x\n",
    "\n",
    "# Test this function\n",
    "print \"=== For autograder ===\"\n",
    "print normalizeCols(np.array([[1.,2.],[2, 3],[3,4]]))  \n",
    "# the result should be [[-1.22474487 -1.22474487] [ 0.          0.        ] [ 1.22474487  1.22474487]]"
   ]
  },
  {
   "cell_type": "code",
   "execution_count": 14,
   "metadata": {
    "collapsed": false
   },
   "outputs": [],
   "source": [
    "# normalize the input data\n",
    "diabetes_X_scale = normalizeCols(diabetes_X)\n",
    "diabetes_y_scale = normalizeCols(diabetes_y)"
   ]
  },
  {
   "cell_type": "markdown",
   "metadata": {},
   "source": [
    "### 1.2 Next we augement the feature matrix by adding a constant to the first column\n",
    "\n",
    "That is, given a matrix \n",
    "$$\\begin{bmatrix}x_{11} & x_{12}\\\\ x_{21} & x_{22}\\end{bmatrix}$$ we want to generate a new one\n",
    "$$\\begin{bmatrix}1 & x_{11} & x_{12}\\\\ 1& x_{21} & x_{22}\\end{bmatrix}$$"
   ]
  },
  {
   "cell_type": "code",
   "execution_count": 15,
   "metadata": {
    "collapsed": false
   },
   "outputs": [
    {
     "name": "stdout",
     "output_type": "stream",
     "text": [
      "=== For autograder ===\n",
      "[[ 1.  1.  2.]\n",
      " [ 1.  2.  3.]\n",
      " [ 1.  3.  4.]]\n"
     ]
    }
   ],
   "source": [
    "# add a constant of 1 to the first column of a matrix\n",
    "def add_constant(x):\n",
    "    \"\"\" Add a column of constant 1 \"\"\"\n",
    "    ### YOUR CODE HERE\n",
    "    z = np.ones((x.shape[0], 1))\n",
    "    x = np.append(z, x, axis = 1)\n",
    "    \n",
    "    ### END YOUR CODE\n",
    "    return x\n",
    "\n",
    "# Test this function\n",
    "print \"=== For autograder ===\"\n",
    "print add_constant(np.array([[1.,2.],[2, 3],[3,4]]))  "
   ]
  },
  {
   "cell_type": "code",
   "execution_count": 16,
   "metadata": {
    "collapsed": false
   },
   "outputs": [],
   "source": [
    "diabetes_X_scale_aug = add_constant(diabetes_X_scale)"
   ]
  },
  {
   "cell_type": "code",
   "execution_count": 17,
   "metadata": {
    "collapsed": false
   },
   "outputs": [],
   "source": [
    "# split the data into traing and testing\n",
    "# model parameters will be trained based on training data only\n",
    "# performance of the model will be evaluated based on test data\n",
    "\n",
    "diabetes_X_train, diabetes_X_test, diabetes_y_train, diabetes_y_test = cross_validation.train_test_split(\\\n",
    "                        diabetes_X_scale_aug, diabetes_y_scale, test_size=0.5, random_state=0)"
   ]
  },
  {
   "cell_type": "markdown",
   "metadata": {
    "collapsed": true
   },
   "source": [
    "##  2 Use linear regression to model the data\n",
    " $$y = X\\theta + \\epsilon$$\n",
    "\n",
    "- $X$: Data\n",
    "- $y$: Target variable\n",
    "- $\\theta$: Coefficients\n",
    "- $\\epsilon$: Observation noise\n",
    "\n",
    "We will walk through two methods for finding the optimal parameter $\\theta$. "
   ]
  },
  {
   "cell_type": "markdown",
   "metadata": {},
   "source": [
    "## 2.1 Find the least square solution through the normal equation\n",
    "\n",
    "$$X^TX \\theta = X^T y$$\n",
    "\n",
    "Hint : Use *numpy.linalg.solve(a, b)* function to solve $ax = b$"
   ]
  },
  {
   "cell_type": "code",
   "execution_count": 18,
   "metadata": {
    "collapsed": false
   },
   "outputs": [
    {
     "name": "stdout",
     "output_type": "stream",
     "text": [
      "=== For autograder ===\n",
      "[-3.33333333  2.33333333]\n"
     ]
    }
   ],
   "source": [
    "def solve_normal_equation(X, y):\n",
    "    \"\"\" find the least square solution of X theta = y \"\"\"\n",
    "    ### YOUR CODE HERE\n",
    "    xt = np.transpose(X)\n",
    "    X = np.dot(xt, X)\n",
    "    y = np.dot(xt, y)\n",
    "    theta = np.linalg.solve(X, y)\n",
    "\n",
    "    ### END YOUR CODE\n",
    "    return theta\n",
    "\n",
    "# Test this function\n",
    "print \"=== For autograder ===\"\n",
    "print solve_normal_equation(np.array([[1.,2.],[2, 3],[3,4]]), np.array([1,1,-1]))  \n",
    "# should produce [-3.33333333  2.33333333]"
   ]
  },
  {
   "cell_type": "code",
   "execution_count": 19,
   "metadata": {
    "collapsed": false
   },
   "outputs": [
    {
     "name": "stdout",
     "output_type": "stream",
     "text": [
      "[ 0.02890049 -0.01260771 -0.16423326  0.34877381  0.20109076 -0.4275837\n",
      "  0.24436934  0.01453353  0.07188042  0.52131379  0.00785681]\n"
     ]
    }
   ],
   "source": [
    "# now compute coeficents of the linear fit on the diabetes dataset\n",
    "theta_normal = solve_normal_equation(diabetes_X_train, diabetes_y_train)\n",
    "print theta_normal"
   ]
  },
  {
   "cell_type": "markdown",
   "metadata": {},
   "source": [
    "## Define a score function to evaluate the goodness-of-fit of the linear model \n",
    "\n",
    "- We will use **$r^2$** to measure the goodness-of-fit \n",
    "- Use function score() to measure the goodness-of-fit of the linear model"
   ]
  },
  {
   "cell_type": "code",
   "execution_count": 20,
   "metadata": {
    "collapsed": false
   },
   "outputs": [],
   "source": [
    "# compare r2 of the model\n",
    "def r2(y_obs, y_pred):\n",
    "    return 1-np.sum((y_obs-y_pred)**2) / np.sum(( y_obs-y_obs.mean())**2)\n",
    "\n",
    "# score the performance of linear regression using r2\n",
    "def score(X, y, theta):\n",
    "    return r2(y, X.dot(theta))"
   ]
  },
  {
   "cell_type": "code",
   "execution_count": 21,
   "metadata": {
    "collapsed": false
   },
   "outputs": [
    {
     "name": "stdout",
     "output_type": "stream",
     "text": [
      "=== For autograder ===\n"
     ]
    },
    {
     "data": {
      "text/plain": [
       "0.43774922562451557"
      ]
     },
     "execution_count": 21,
     "metadata": {},
     "output_type": "execute_result"
    }
   ],
   "source": [
    "# Test this function\n",
    "print \"=== For autograder ===\"\n",
    "score(diabetes_X_test, diabetes_y_test, theta_normal)\n",
    "\n",
    "# should return  0.43774922562451557"
   ]
  },
  {
   "cell_type": "markdown",
   "metadata": {},
   "source": [
    "## 2.2 Gradient descent\n",
    "\n",
    "Next we walk through steps of implementing gradient descent algorithm"
   ]
  },
  {
   "cell_type": "markdown",
   "metadata": {},
   "source": [
    "## Compute mean square error cost between model outputs and observations\n",
    "\n",
    "Given $X$, $y$, and $\\theta$, where maxtrix $X$ is of $m$ by $n+1$,  \n",
    "\n",
    "* the mean square cost is defined to be\n",
    "\n",
    "$$J(\\theta) = \\frac{1}{2m}\\|X\\theta - y\\|^2$$\n",
    "\n",
    "* the gradient of $J(\\theta)$ w.r.t. $\\theta$ is\n",
    "$$\\nabla J(\\theta) = \\frac{1}{m} X^T(X\\theta-y)$$\n",
    "\n",
    "** Now define a function which receives $X$, $y$, $\\theta$ as input and outputs both cost and gradient** "
   ]
  },
  {
   "cell_type": "code",
   "execution_count": 22,
   "metadata": {
    "collapsed": false
   },
   "outputs": [
    {
     "name": "stdout",
     "output_type": "stream",
     "text": [
      "=== For autograder ===\n",
      "(14.0, array([ 11.33333333,  16.        ]))\n"
     ]
    }
   ],
   "source": [
    "def linear_regression_cost_grad(X, y, theta):\n",
    "    # calculate cost and grad of mean square error cost function\n",
    "    # X:  m x (n+1)  (m: number of samples, n: number of feature dimension)\n",
    "    # y:  m x 1  (target)\n",
    "    # beta: (n+1),   (beta_0 is the intercept)\n",
    "    # output: cost, grad   where grad should be an one-dimensional array with size n+1. \n",
    "    \n",
    "    ### YOUR CODE HERE\n",
    "    x_1 = np.dot(X, theta)\n",
    "    x_2 = np.subtract(x_1, y)\n",
    "    x_3 = np.square(x_2)\n",
    "    x_4 = np.sum(x_3)\n",
    "    m = X.shape[0]\n",
    "    cost = (1.0/(2*m)) * x_4\n",
    "    \n",
    "    x_5 = np.transpose(X)\n",
    "    x_6 = np.multiply((1.0/m), x_5)\n",
    "    grad = np.dot(x_6, x_2)\n",
    "    \n",
    "    ### END YOUR CODE\n",
    "    \n",
    "    return cost, grad\n",
    "\n",
    "# Test this function\n",
    "print \"=== For autograder ===\"\n",
    "print linear_regression_cost_grad(np.array([[1.,2.],[2, 3],[3,4]]), np.array([1,1,-1]), np.array([1,1]))  \n",
    "# should produce (14.0, array([ 11.33333333,  16.        ]))"
   ]
  },
  {
   "cell_type": "code",
   "execution_count": 23,
   "metadata": {
    "collapsed": false
   },
   "outputs": [
    {
     "data": {
      "text/plain": [
       "(0.22985092280091557,\n",
       " array([ -5.89604028e-18,   3.07126221e-16,  -1.33707650e-16,\n",
       "          4.72426471e-17,  -1.33371521e-16,   2.38338028e-16,\n",
       "         -4.86775990e-16,   6.49623168e-17,   6.52042284e-17,\n",
       "          1.28435723e-16,  -1.28240712e-16]))"
      ]
     },
     "execution_count": 23,
     "metadata": {},
     "output_type": "execute_result"
    }
   ],
   "source": [
    "# compute cost and grad with the normal equation returned parameters\n",
    "linear_regression_cost_grad(diabetes_X_train, diabetes_y_train, theta_normal)\n",
    "\n",
    "# the cost should be 0.22985092280091579\n",
    "# grad should be all zeros. "
   ]
  },
  {
   "cell_type": "markdown",
   "metadata": {},
   "source": [
    "### 2.2.1 Implement gradient descent algorithm"
   ]
  },
  {
   "cell_type": "code",
   "execution_count": 24,
   "metadata": {
    "collapsed": false
   },
   "outputs": [
    {
     "name": "stdout",
     "output_type": "stream",
     "text": [
      "=== For autograder ===\n",
      "iter: 0 cost: 6.250000\n",
      "iter: 10 cost: 0.600379\n",
      "iter: 20 cost: 0.072992\n",
      "iter: 30 cost: 0.008874\n",
      "iter: 40 cost: 0.001079\n",
      "iter: 50 cost: 0.000131\n",
      "iter: 60 cost: 0.000016\n",
      "iter: 70 cost: 0.000002\n",
      "iter: 80 cost: 0.000000\n",
      "iter: 90 cost: 0.000000\n"
     ]
    },
    {
     "data": {
      "text/plain": [
       "5.902533086130547e-05"
      ]
     },
     "execution_count": 24,
     "metadata": {},
     "output_type": "execute_result"
    }
   ],
   "source": [
    "def sgd(f, x0, step, iterations, PRINT_EVERY=10):\n",
    "    \"\"\" Stochastic Gradient Descent \"\"\"\n",
    "    ###################################################################\n",
    "    # Implement the stochastic gradient descent method in this        #\n",
    "    # function.                                                       #\n",
    "    # Inputs:                                                         #\n",
    "    #   - f: the function to optimize, it should take a single        #\n",
    "    #        argument and yield two outputs, a cost and the gradient  #\n",
    "    #        with respect to the arguments                            #\n",
    "    #   - x0: the initial point to start SGD from                     #\n",
    "    #   - step: the step size for SGD                                 #\n",
    "    #   - iterations: total iterations to run SGD for                 #\n",
    "    #   - PRINT_EVERY: specifies every how many iterations to output  #\n",
    "    # Output:                                                         #\n",
    "    #   - x: the parameter value after SGD finishes                   #\n",
    "    ###################################################################\n",
    "    \n",
    "    # Anneal learning rate every several iterations\n",
    "    #\n",
    "    ANNEAL_EVERY = 10000    \n",
    "\n",
    "    x = x0    \n",
    "    cost = 0\n",
    "    for iter in xrange(iterations):\n",
    "\n",
    "        ### YOUR CODE HERE        \n",
    "        cost, gradient = f(x)\n",
    "        x = x - step * gradient\n",
    "        \n",
    "        ### END YOUR CODE      \n",
    "        \n",
    "        if iter % PRINT_EVERY == 0:\n",
    "            print \"iter: %d cost: %f\" % (iter, cost)               \n",
    "      \n",
    "        if iter % ANNEAL_EVERY == 0:\n",
    "            step *= 0.5\n",
    "            \n",
    "        #plt.plot(iter, cost, '.b')            \n",
    "    return x\n",
    "\n",
    "# Test this function\n",
    "print \"=== For autograder ===\"\n",
    "# test gradient descent on a simple quadratic function\n",
    "quad = lambda x: (np.sum(x ** 2), x * 2)\n",
    "sgd(quad, 2.5, 0.1, 100)"
   ]
  },
  {
   "cell_type": "markdown",
   "metadata": {},
   "source": [
    "The output of the previous cell should be \n",
    "~~~\n",
    "=== For autograder ===\n",
    "iter: 0 cost: 6.250000\n",
    "iter: 10 cost: 0.600379\n",
    "iter: 20 cost: 0.072992\n",
    "iter: 30 cost: 0.008874\n",
    "iter: 40 cost: 0.001079\n",
    "iter: 50 cost: 0.000131\n",
    "iter: 60 cost: 0.000016\n",
    "iter: 70 cost: 0.000002\n",
    "iter: 80 cost: 0.000000\n",
    "iter: 90 cost: 0.000000\n",
    "5.902533086130547e-05\n",
    "~~~"
   ]
  },
  {
   "cell_type": "markdown",
   "metadata": {},
   "source": [
    "## 2.2.2 Next we run batch gradient descent on the diabetes training data"
   ]
  },
  {
   "cell_type": "code",
   "execution_count": 25,
   "metadata": {
    "collapsed": false
   },
   "outputs": [],
   "source": [
    "# set up parameters for running sgd,  do not change these parameters\n",
    "np.random.seed(1)\n",
    "theta0 = np.random.randn(diabetes_X_train.shape[1],)  # randomly initialize theta\n",
    "step = 0.1     # step size\n",
    "niter = 5000   # number of iterations\n",
    "\n",
    "## Now run gradient descent on the diabetes training data using linear_regression_cost_grad\n",
    "\n",
    "### YOUR CODE HERE\n",
    "index = 0\n",
    "while (index < niter):\n",
    "    cost, grad = linear_regression_cost_grad(diabetes_X_train, diabetes_y_train, theta0)\n",
    "    theta0 = np.subtract(theta0, np.multiply(step, grad))\n",
    "    index += 1\n",
    "theta_batch = theta0\n",
    "### END YOUR CODE"
   ]
  },
  {
   "cell_type": "code",
   "execution_count": 26,
   "metadata": {
    "collapsed": false
   },
   "outputs": [
    {
     "name": "stdout",
     "output_type": "stream",
     "text": [
      "=== For autograder ===\n",
      "(0.22985227260915433, array([  3.98144947e-07,  -8.83067362e-07,  -6.33262024e-08,\n",
      "        -2.14838763e-06,   1.11892519e-06,  -1.12273791e-04,\n",
      "         8.87753217e-05,   5.06747668e-05,   1.58268768e-05,\n",
      "         4.18336656e-05,  -2.23395432e-07]))\n"
     ]
    }
   ],
   "source": [
    "# Test this function\n",
    "print \"=== For autograder ===\"\n",
    "print linear_regression_cost_grad(diabetes_X_train,diabetes_y_train, theta_batch)\n",
    "# should return (0.22999125339269705, ....)"
   ]
  },
  {
   "cell_type": "markdown",
   "metadata": {},
   "source": [
    "## 2.2.3 Next we run stochastic gradient descent on the diabetes training data"
   ]
  },
  {
   "cell_type": "code",
   "execution_count": 27,
   "metadata": {
    "collapsed": true
   },
   "outputs": [],
   "source": [
    "# wrapper for choosing minibatches\n",
    "def sgd_wrapper(X, y, params, modelCostAndGradient, batchsize = 50):\n",
    "    \"\"\" wrapper for calling stochastic gradient descent\"\"\"\n",
    "    if len(X.shape) < 2:\n",
    "        X = X.reshape(-1,1)\n",
    "        \n",
    "    C = X.shape[0]\n",
    "    \n",
    "    # randomly sample minibatch\n",
    "    if batchsize < C:\n",
    "        index = random.sample(range(0,C), batchsize)\n",
    "        X = X[index,:]\n",
    "        y = y[index]\n",
    "    \n",
    "    cost, grad = modelCostAndGradient(X, y, params)        \n",
    "    return cost, grad"
   ]
  },
  {
   "cell_type": "code",
   "execution_count": 28,
   "metadata": {
    "collapsed": false
   },
   "outputs": [],
   "source": [
    "# set up parameters for running sgd,  do not change these parameters\n",
    "np.random.seed(1)\n",
    "theta0 = np.random.randn(diabetes_X_train.shape[1],)  # randomly initialize theta\n",
    "step = 0.1     # step size\n",
    "niter = 5000  # number of iterations\n",
    "batchsize = 50  # mini batch size\n",
    "\n",
    "## Now run gradient descent on the diabetes training data using linear_regression_cost_grad and sgd_wrapper\n",
    "\n",
    "### YOUR CODE HERE   \n",
    "index = 0\n",
    "while (index < niter):\n",
    "    cost, grad = sgd_wrapper(diabetes_X_train, diabetes_y_train, theta0, linear_regression_cost_grad)\n",
    "    theta0 = np.subtract(theta0, np.multiply(step, grad))\n",
    "    index += 1\n",
    "theta_sgd = theta0\n",
    "### END YOUR CODE"
   ]
  },
  {
   "cell_type": "code",
   "execution_count": 29,
   "metadata": {
    "collapsed": false
   },
   "outputs": [
    {
     "name": "stdout",
     "output_type": "stream",
     "text": [
      "=== For autograder ===\n",
      "(0.23145410910655287, array([-0.02101056, -0.00818933, -0.00312853,  0.02317685,  0.00662132,\n",
      "        0.02550392,  0.03914067, -0.03680066,  0.0432925 ,  0.01604462,\n",
      "        0.01163812]))\n"
     ]
    }
   ],
   "source": [
    "# Test this function\n",
    "print \"=== For autograder ===\"\n",
    "print linear_regression_cost_grad(diabetes_X_train,diabetes_y_train, theta_sgd)\n",
    "# should return (0.23065788930966591, ...)"
   ]
  },
  {
   "cell_type": "markdown",
   "metadata": {},
   "source": [
    "## Regulariation techniques"
   ]
  },
  {
   "cell_type": "markdown",
   "metadata": {},
   "source": [
    "## 3. Ridge regression\n",
    "\n",
    "- Regularize L2 norm of coeficents.  Shrink the coeficents toward zero. \n",
    "\n",
    "- Cost function: $$ J(\\theta) =  \\frac{1}{2m}\\|X\\theta - y\\|^2 + \\alpha \\|\\theta\\|_2^2 $$\n",
    "\n",
    "* $\\alpha$ is the regularization parameter"
   ]
  },
  {
   "cell_type": "code",
   "execution_count": 30,
   "metadata": {
    "collapsed": false
   },
   "outputs": [
    {
     "name": "stdout",
     "output_type": "stream",
     "text": [
      "=== For autograder ===\n",
      "[-0.09101251  0.08418658]\n"
     ]
    }
   ],
   "source": [
    "def solve_ridge_normal_equation(X, y, alpha):\n",
    "    \"\"\" find the solution of ridge regression through linear equations \"\"\"\n",
    "    \n",
    "    ### YOUR CODE HERE\n",
    "\n",
    "    X_t = np.transpose(X)\n",
    "    X_ty = np.dot(X_t, y)\n",
    "    X_tX = np.dot(X_t, X)\n",
    "    m = X.shape[0]\n",
    "    I = np.identity(X_tX.shape[0])\n",
    "    m_alpha_I = np.dot(m*alpha, I)\n",
    "    x_1 = np.add(X_tX, m_alpha_I)\n",
    "    x_2 = np.linalg.inv(x_1)\n",
    "    theta = np.dot(x_2, X_ty)\n",
    "    \n",
    "    ### END YOUR CODE\n",
    "    \n",
    "    return theta\n",
    "\n",
    "# Test this function\n",
    "print \"=== For autograder ===\"\n",
    "print solve_ridge_normal_equation(np.array([[1.,2.],[2, 3],[3,4]]), np.array([1,1,-1]), 1.5)  \n",
    "# should return [-0.09101251  0.08418658]"
   ]
  },
  {
   "cell_type": "code",
   "execution_count": 31,
   "metadata": {
    "collapsed": false
   },
   "outputs": [
    {
     "name": "stdout",
     "output_type": "stream",
     "text": [
      "=== For autograder ===\n",
      "(17.0, array([ 12.83333333,  17.5       ]))\n"
     ]
    }
   ],
   "source": [
    "# now implement a function that compute the cost and gradient of the ridge cost function\n",
    "def ridge_regression_cost_grad(X, y, theta, alpha):\n",
    "    # calculate cost and grad of mean square error cost function\n",
    "    # X:  m x (n+1)  (m: number of samples, n: number of feature dimension)\n",
    "    # y:  m x 1  (target)\n",
    "    # beta: (n+1),   (beta_0 is the intercept)\n",
    "    # alpha: scalar\n",
    "    # output: cost, grad   where grad should be an one-dimensional array with size n+1. \n",
    "    \n",
    "    ### YOUR CODE HERE\n",
    "    m = X.shape[0]\n",
    "    alpha_theta = alpha * (np.linalg.norm(theta, 2)**2)\n",
    "    X_theta = np.dot(X, theta)\n",
    "    X_theta_y = np.subtract(X_theta, y)\n",
    "    X_theta_y2 = np.square(X_theta_y)\n",
    "    x_1 = (np.linalg.norm(X_theta_y2, 1))/(2*m)\n",
    "    cost = x_1 + alpha_theta\n",
    "    \n",
    "    X_t = np.transpose(X)\n",
    "    x_2 = np.dot((1.0/m), X_t)\n",
    "    x_3 = np.dot(x_2, X_theta_y) \n",
    "    grad = np.add(x_3, np.dot((1*alpha), theta))\n",
    "    ### END YOUR CODE\n",
    "    \n",
    "    return cost, grad\n",
    "\n",
    "# Test this function\n",
    "print \"=== For autograder ===\"\n",
    "print ridge_regression_cost_grad(np.array([[1.,2.],[2, 3],[3,4]]), np.array([1,1,-1]), np.array([1,1]), 1.5)  \n",
    "# should produce (17.0, array([ 12.83333333,  17.5       ]))"
   ]
  },
  {
   "cell_type": "markdown",
   "metadata": {},
   "source": [
    "## Choose regularization parameter $\\alpha$ through cross-validation"
   ]
  },
  {
   "cell_type": "code",
   "execution_count": 32,
   "metadata": {
    "collapsed": false
   },
   "outputs": [],
   "source": [
    "# split the training data into training and validation\n",
    "X_train, X_val, y_train, y_val = cross_validation.train_test_split(\\\n",
    "                        diabetes_X_train, diabetes_y_train, test_size=0.2, random_state=0)"
   ]
  },
  {
   "cell_type": "code",
   "execution_count": 33,
   "metadata": {
    "collapsed": false
   },
   "outputs": [
    {
     "name": "stdout",
     "output_type": "stream",
     "text": [
      "alpha: 0.000000,  score: 4.038617\n",
      "alpha: 0.111111,  score: 4.108495\n",
      "alpha: 0.222222,  score: 4.187895\n",
      "alpha: 0.333333,  score: 4.227773\n",
      "alpha: 0.444444,  score: 4.240125\n",
      "alpha: 0.555556,  score: 4.233933\n",
      "alpha: 0.666667,  score: 4.215412\n",
      "alpha: 0.777778,  score: 4.188811\n",
      "alpha: 0.888889,  score: 4.157033\n",
      "alpha: 1.000000,  score: 4.122068\n",
      "=== For autograder ===\n",
      "Best alpha is:  0.444444444444\n"
     ]
    },
    {
     "data": {
      "image/png": "[encoded data removed]",
      "text/plain": [
       "<matplotlib.figure.Figure at 0xc441ba8>"
      ]
     },
     "metadata": {},
     "output_type": "display_data"
    }
   ],
   "source": [
    "alphas = np.linspace(0, 1, 10)\n",
    "scores = []\n",
    "\n",
    "for alpha in alphas:\n",
    "    \n",
    "    ### YOUR CODE HERE\n",
    "    #train theta using ridge regression with alpha_n\n",
    "    np.random.seed(1)\n",
    "    theta0 = np.random.randn(X_train.shape[1],)  # randomly initialize theta\n",
    "    step = 0.1     # step size\n",
    "    niter = 5000  # number of iterations\n",
    "    \n",
    "    index = 0\n",
    "    while (index < niter):\n",
    "        cost, grad = ridge_regression_cost_grad(X_train, y_train, theta0, alpha)\n",
    "        theta0 = np.subtract(theta0, np.multiply(step, grad))\n",
    "        index += 1\n",
    "    theta_batch = theta0\n",
    "    \n",
    "    #validate theta\n",
    "    cost, grad = linear_regression_cost_grad(X_val, y_val, theta_batch)\n",
    "    s = 1.0 / cost\n",
    "    \n",
    "    \n",
    "    ### END OF YOUR CODE\n",
    "    print \"alpha: %f,  score: %f\" % (alpha, s)\n",
    "    scores.append(s) \n",
    "\n",
    "plt.plot(alphas, scores,'*-')\n",
    "plt.grid()\n",
    "plt.xlabel('alpha')\n",
    "plt.ylabel('test score')\n",
    "\n",
    "# Test this function\n",
    "print \"=== For autograder ===\"\n",
    "alpha_best = alphas[np.argmax(scores)]\n",
    "theta_ridge = solve_ridge_normal_equation(diabetes_X_train, diabetes_y_train, alpha_best)\n",
    "print \"Best alpha is: \", alpha_best\n",
    "# best alpha should be 0.444444444444"
   ]
  },
  {
   "cell_type": "markdown",
   "metadata": {},
   "source": [
    "##  4 Sparsity - LASSO \n",
    "\n",
    "- Select only informative features. Set non-informative features to 0\n",
    "- Cost function: $$ J(\\theta) =  \\frac{1}{2m}\\|X\\theta - y\\|^2 +  \\alpha \\|\\beta\\|_1 $$"
   ]
  },
  {
   "cell_type": "markdown",
   "metadata": {},
   "source": [
    "###  4.1 Soft-thresholding function:\n",
    "\n",
    "$$ S_\\lambda(y) = \\left \\{ \\begin{array}{ll} y-\\lambda  & \\mbox{if y >$\\lambda$} \\\\\n",
    "0  & \\mbox{if $-\\lambda \\le y \\le \\lambda$}\\\\\n",
    "y+\\lambda  & \\mbox{if y <$-\\lambda$} \\end{array} \\right.$$\n"
   ]
  },
  {
   "cell_type": "code",
   "execution_count": 34,
   "metadata": {
    "collapsed": false
   },
   "outputs": [
    {
     "name": "stdout",
     "output_type": "stream",
     "text": [
      "=== For autograder ===\n",
      "3.0 1.0 0\n"
     ]
    }
   ],
   "source": [
    "# Implement the soft threshoding function \n",
    "def soft_thresholding(y, th):\n",
    "    \"\"\" soft thresholding function \"\"\"\n",
    "    # y is a scalar\n",
    "    # th is the lambda\n",
    "    # return S\n",
    "    \n",
    "    ### YOUR CODE HERE\n",
    "\n",
    "    if (y > th):\n",
    "        s = y - th\n",
    "    elif (y < (-1 * th)):\n",
    "        s = y + th\n",
    "    else:\n",
    "        s = 0\n",
    "    \n",
    "    ### END OF YOUR CODE\n",
    "    \n",
    "    return s\n",
    "\n",
    "# Test this function\n",
    "print \"=== For autograder ===\"\n",
    "print soft_thresholding(5, 2.), soft_thresholding(-5., -6), soft_thresholding(-3., 6),\n",
    "# should return 3.0 1.0 0.0"
   ]
  },
  {
   "cell_type": "markdown",
   "metadata": {},
   "source": [
    "## 4.2 Coordinate descent method for solving LASSO"
   ]
  },
  {
   "cell_type": "code",
   "execution_count": 35,
   "metadata": {
    "collapsed": false
   },
   "outputs": [
    {
     "name": "stdout",
     "output_type": "stream",
     "text": [
      "=== For autograder ===\n"
     ]
    },
    {
     "data": {
      "text/plain": [
       "0.43537505946701932"
      ]
     },
     "execution_count": 35,
     "metadata": {},
     "output_type": "execute_result"
    }
   ],
   "source": [
    "# impement a function to compute Lasso cost\n",
    "def lasso_cost(X, y, theta, alpha):\n",
    "    # calculate lasso cost\n",
    "    # X:  m x (n+1)  (m: number of samples, n: number of feature dimension)\n",
    "    # y:  m x 1  (target)\n",
    "    # theta: (n+1),   (beta_0 is the intercept)\n",
    "    # alpha: scalar\n",
    "    # output: cost\n",
    "    \n",
    "    ### YOUR CODE HERE\n",
    "\n",
    "    m = X.shape[0]\n",
    "    X_theta = np.dot(X, theta)\n",
    "    X_theta_y = np.subtract(X_theta, y)\n",
    "    X_theta_y2 = np.square(X_theta_y)\n",
    "    x_1 = (np.linalg.norm(X_theta_y2, 1))/(2*m)\n",
    "    alpha_theta = alpha * (np.linalg.norm(theta, 1))\n",
    "    cost = x_1 + alpha_theta\n",
    "    \n",
    "    ### END YOUR CODE\n",
    "    \n",
    "    return cost\n",
    "\n",
    "# Test this function\n",
    "print \"=== For autograder ===\"\n",
    "lasso_cost(X_train, y_train, theta_normal, 0.1)\n",
    "# should return 0.43537505946702004"
   ]
  },
  {
   "cell_type": "code",
   "execution_count": 36,
   "metadata": {
    "collapsed": false
   },
   "outputs": [
    {
     "name": "stdout",
     "output_type": "stream",
     "text": [
      "=== For autograder ===\n"
     ]
    },
    {
     "data": {
      "text/plain": [
       "array([ 0.        ,  0.        , -0.02123786,  0.33151434,  0.05080917,\n",
       "        0.        ,  0.        , -0.07756926,  0.        ,  0.37534135,  0.        ])"
      ]
     },
     "execution_count": 36,
     "metadata": {},
     "output_type": "execute_result"
    }
   ],
   "source": [
    "# Find optimal theta using coordinate descent\n",
    "def solve_lasso(X, y, alpha, eps=1.e-10, MAX_ITER=1000):\n",
    "    \"\"\" Coordinate descent method to solve LASSO \"\"\"\n",
    "    \n",
    "\n",
    "    m,n = X.shape\n",
    "    np.random.seed(1)\n",
    "    theta = np.random.randn(n,)  # randomly initialize theta\n",
    "\n",
    "    A = X.T.dot(X) \n",
    "    b = X.T.dot(y)\n",
    "    \n",
    "    J0 = np.infty\n",
    "    J = lasso_cost(X,y,theta,alpha)\n",
    "\n",
    "    iter = 0\n",
    "    while abs(J-J0) > eps and iter < MAX_ITER:\n",
    "        for i in range(n):\n",
    "            \n",
    "            # update theta[i] while fixing the rest of theta's\n",
    "            \n",
    "            ### YOUR CODE HERE\n",
    "            x_1 = 1.0/(np.linalg.norm(X[:,i], 2)**2)\n",
    "            #calculate beta_i\n",
    "            beta = np.empty(n)\n",
    "            for j in range(m):\n",
    "                x_jk_theta_k = 0\n",
    "                for k in range(n):\n",
    "                    if(k != i):\n",
    "                        x_jk_theta_k += X[j, k] * theta[k]\n",
    "                beta[i] += X[j, i] * (y[j] - x_jk_theta_k)\n",
    "            x_2 = soft_thresholding(beta[i], alpha * m)\n",
    "            theta[i] = x_1 * x_2\n",
    "            \n",
    "            \n",
    "            ### END YOUR CODE\n",
    "\n",
    "        J0 = J\n",
    "        J = lasso_cost(X,y,theta,alpha)\n",
    "        iter += 1\n",
    "        #if iter % 10 == 0:\n",
    "        #    print iter, J  \n",
    "\n",
    "    return theta\n",
    "\n",
    "# Test this function\n",
    "print \"=== For autograder ===\"\n",
    "solve_lasso(X_train, y_train, 0.1)\n",
    "# should return array([ 0.        ,  0.        , -0.02187849,  0.32944223,  0.05201554,\n",
    "#        0.        ,  0.        , -0.07930051,  0.        ,  0.37312426,  0.        ])"
   ]
  },
  {
   "cell_type": "markdown",
   "metadata": {},
   "source": [
    "## 4.3 Use cross-validation to choose regularization parameter"
   ]
  },
  {
   "cell_type": "code",
   "execution_count": 37,
   "metadata": {
    "collapsed": false
   },
   "outputs": [
    {
     "name": "stdout",
     "output_type": "stream",
     "text": [
      "alpha: 0.000000,  score: 4.031399\n",
      "alpha: 0.111111,  score: 4.058675\n",
      "alpha: 0.222222,  score: 3.767736\n",
      "alpha: 0.333333,  score: 3.433051\n",
      "alpha: 0.444444,  score: 2.988388\n",
      "alpha: 0.555556,  score: 2.532242\n",
      "alpha: 0.666667,  score: 2.223512\n",
      "alpha: 0.777778,  score: 2.151867\n",
      "alpha: 0.888889,  score: 2.151867\n",
      "alpha: 1.000000,  score: 2.151867\n",
      "=== For autograder ===\n",
      "Best alpha is:  0.111111111111\n"
     ]
    },
    {
     "data": {
      "image/png": "[encoded data removed]",
      "text/plain": [
       "<matplotlib.figure.Figure at 0xc53a240>"
      ]
     },
     "metadata": {},
     "output_type": "display_data"
    }
   ],
   "source": [
    "alphas = np.linspace(0, 1, 10)\n",
    "scores = []\n",
    "\n",
    "for alpha in alphas:\n",
    "    \n",
    "    ### YOUR CODE HERE\n",
    "    #train theta using ridge regression with alpha_n\n",
    "    np.random.seed(1)\n",
    "    theta0 = np.random.randn(X_train.shape[1],)  # randomly initialize theta\n",
    "    eps = 1.e-10     # step size\n",
    "    niter = 1000  # number of iterations\n",
    "    \n",
    "    theta = solve_lasso(X_train, y_train, alpha, eps, niter)\n",
    "    \n",
    "    #validate theta\n",
    "    cost, grad = linear_regression_cost_grad(X_val, y_val, theta)\n",
    "    s = 1.0 / cost\n",
    "    \n",
    "    ### END OF YOUR CODE\n",
    "    \n",
    "    print \"alpha: %f,  score: %f\" % (alpha, s)\n",
    "    scores.append(s) \n",
    "\n",
    "plt.plot(alphas, scores,'*-')\n",
    "plt.grid()\n",
    "plt.xlabel('alpha')\n",
    "plt.ylabel('test score')\n",
    "\n",
    "# Test this function\n",
    "print \"=== For autograder ===\"\n",
    "alpha_best = alphas[np.argmax(scores)]\n",
    "theta_lasso = solve_lasso(diabetes_X_train, diabetes_y_train, alpha_best)\n",
    "print \"Best alpha is: \", alpha_best\n",
    "# best alpha should be 0.111111111111"
   ]
  },
  {
   "cell_type": "code",
   "execution_count": 38,
   "metadata": {
    "collapsed": false
   },
   "outputs": [
    {
     "name": "stdout",
     "output_type": "stream",
     "text": [
      "0.437749225625 0.453413874731 0.427579726326\n"
     ]
    }
   ],
   "source": [
    "# Compare the performance of different models on test data\n",
    "s1 = score(diabetes_X_test, diabetes_y_test, theta_normal)\n",
    "s2 = score(diabetes_X_test, diabetes_y_test, theta_ridge)\n",
    "s3 = score(diabetes_X_test, diabetes_y_test, theta_lasso)\n",
    "print s1, s2, s3\n",
    "\n",
    "# should return 0.437749225625 0.453413874731 0.427707156796\n",
    "# and the winner is Ridge regression"
   ]
  },
  {
   "cell_type": "code",
   "execution_count": 39,
   "metadata": {
    "collapsed": false
   },
   "outputs": [
    {
     "data": {
      "text/plain": [
       "<matplotlib.legend.Legend at 0xc9ba908>"
      ]
     },
     "execution_count": 39,
     "metadata": {},
     "output_type": "execute_result"
    },
    {
     "data": {
      "image/png": "[encoded data removed]",
      "text/plain": [
       "<matplotlib.figure.Figure at 0xc7c8a58>"
      ]
     },
     "metadata": {},
     "output_type": "display_data"
    }
   ],
   "source": [
    "# plot the values of theta from three different models\n",
    "plt.bar(np.arange(11),theta_normal,width=0.2,color='b')\n",
    "plt.bar(np.arange(11)+0.2,theta_ridge,width=0.2,color='g')\n",
    "plt.bar(np.arange(11)+0.4,theta_lasso,width=0.2,color='r')\n",
    "plt.grid()\n",
    "plt.legend(['Linear regression','Ridge','Lasso'],loc=2)"
   ]
  },
  {
   "cell_type": "code",
   "execution_count": null,
   "metadata": {
    "collapsed": true
   },
   "outputs": [],
   "source": []
  },
  {
   "cell_type": "code",
   "execution_count": null,
   "metadata": {
    "collapsed": true
   },
   "outputs": [],
   "source": []
  }
 ],
 "metadata": {
  "anaconda-cloud": {},
  "kernelspec": {
   "display_name": "Python [default]",
   "language": "python",
   "name": "python2"
  },
  "language_info": {
   "codemirror_mode": {
    "name": "ipython",
    "version": 2
   },
   "file_extension": ".py",
   "mimetype": "text/x-python",
   "name": "python",
   "nbconvert_exporter": "python",
   "pygments_lexer": "ipython2",
   "version": "2.7.12"
  }
 },
 "nbformat": 4,
 "nbformat_minor": 0
}
